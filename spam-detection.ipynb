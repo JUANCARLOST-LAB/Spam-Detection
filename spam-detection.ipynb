{
 "cells": [
  {
   "cell_type": "markdown",
   "id": "23d117d1",
   "metadata": {
    "papermill": {
     "duration": 0.006597,
     "end_time": "2023-12-01T00:58:07.252727",
     "exception": false,
     "start_time": "2023-12-01T00:58:07.246130",
     "status": "completed"
    },
    "tags": []
   },
   "source": [
    "# SPAM Detection\n",
    "\n",
    "We will use word embeddings"
   ]
  },
  {
   "cell_type": "code",
   "execution_count": 1,
   "id": "deb29d0d",
   "metadata": {
    "execution": {
     "iopub.execute_input": "2023-12-01T00:58:07.269886Z",
     "iopub.status.busy": "2023-12-01T00:58:07.268988Z",
     "iopub.status.idle": "2023-12-01T00:58:22.770339Z",
     "shell.execute_reply": "2023-12-01T00:58:22.769016Z"
    },
    "papermill": {
     "duration": 15.511929,
     "end_time": "2023-12-01T00:58:22.773133",
     "exception": false,
     "start_time": "2023-12-01T00:58:07.261204",
     "status": "completed"
    },
    "tags": []
   },
   "outputs": [],
   "source": [
    "# Import libraries\n",
    "import pandas as pd\n",
    "import numpy as np\n",
    "import tensorflow as tf\n",
    "from tensorflow.keras.preprocessing.text import Tokenizer\n",
    "from tensorflow.keras.preprocessing.sequence import pad_sequences"
   ]
  },
  {
   "cell_type": "code",
   "execution_count": 2,
   "id": "35367717",
   "metadata": {
    "execution": {
     "iopub.execute_input": "2023-12-01T00:58:22.789021Z",
     "iopub.status.busy": "2023-12-01T00:58:22.787324Z",
     "iopub.status.idle": "2023-12-01T00:58:22.870260Z",
     "shell.execute_reply": "2023-12-01T00:58:22.869140Z"
    },
    "papermill": {
     "duration": 0.093509,
     "end_time": "2023-12-01T00:58:22.873074",
     "exception": false,
     "start_time": "2023-12-01T00:58:22.779565",
     "status": "completed"
    },
    "tags": []
   },
   "outputs": [
    {
     "data": {
      "text/html": [
       "<div>\n",
       "<style scoped>\n",
       "    .dataframe tbody tr th:only-of-type {\n",
       "        vertical-align: middle;\n",
       "    }\n",
       "\n",
       "    .dataframe tbody tr th {\n",
       "        vertical-align: top;\n",
       "    }\n",
       "\n",
       "    .dataframe thead th {\n",
       "        text-align: right;\n",
       "    }\n",
       "</style>\n",
       "<table border=\"1\" class=\"dataframe\">\n",
       "  <thead>\n",
       "    <tr style=\"text-align: right;\">\n",
       "      <th></th>\n",
       "      <th>v1</th>\n",
       "      <th>v2</th>\n",
       "      <th>Unnamed: 2</th>\n",
       "      <th>Unnamed: 3</th>\n",
       "      <th>Unnamed: 4</th>\n",
       "    </tr>\n",
       "  </thead>\n",
       "  <tbody>\n",
       "    <tr>\n",
       "      <th>0</th>\n",
       "      <td>ham</td>\n",
       "      <td>Go until jurong point, crazy.. Available only ...</td>\n",
       "      <td>NaN</td>\n",
       "      <td>NaN</td>\n",
       "      <td>NaN</td>\n",
       "    </tr>\n",
       "    <tr>\n",
       "      <th>1</th>\n",
       "      <td>ham</td>\n",
       "      <td>Ok lar... Joking wif u oni...</td>\n",
       "      <td>NaN</td>\n",
       "      <td>NaN</td>\n",
       "      <td>NaN</td>\n",
       "    </tr>\n",
       "    <tr>\n",
       "      <th>2</th>\n",
       "      <td>spam</td>\n",
       "      <td>Free entry in 2 a wkly comp to win FA Cup fina...</td>\n",
       "      <td>NaN</td>\n",
       "      <td>NaN</td>\n",
       "      <td>NaN</td>\n",
       "    </tr>\n",
       "    <tr>\n",
       "      <th>3</th>\n",
       "      <td>ham</td>\n",
       "      <td>U dun say so early hor... U c already then say...</td>\n",
       "      <td>NaN</td>\n",
       "      <td>NaN</td>\n",
       "      <td>NaN</td>\n",
       "    </tr>\n",
       "    <tr>\n",
       "      <th>4</th>\n",
       "      <td>ham</td>\n",
       "      <td>Nah I don't think he goes to usf, he lives aro...</td>\n",
       "      <td>NaN</td>\n",
       "      <td>NaN</td>\n",
       "      <td>NaN</td>\n",
       "    </tr>\n",
       "  </tbody>\n",
       "</table>\n",
       "</div>"
      ],
      "text/plain": [
       "     v1                                                 v2 Unnamed: 2  \\\n",
       "0   ham  Go until jurong point, crazy.. Available only ...        NaN   \n",
       "1   ham                      Ok lar... Joking wif u oni...        NaN   \n",
       "2  spam  Free entry in 2 a wkly comp to win FA Cup fina...        NaN   \n",
       "3   ham  U dun say so early hor... U c already then say...        NaN   \n",
       "4   ham  Nah I don't think he goes to usf, he lives aro...        NaN   \n",
       "\n",
       "  Unnamed: 3 Unnamed: 4  \n",
       "0        NaN        NaN  \n",
       "1        NaN        NaN  \n",
       "2        NaN        NaN  \n",
       "3        NaN        NaN  \n",
       "4        NaN        NaN  "
      ]
     },
     "execution_count": 2,
     "metadata": {},
     "output_type": "execute_result"
    }
   ],
   "source": [
    "# Load dataset\n",
    "df = pd.read_csv('../input/sms-spam-collection-dataset/spam.csv', encoding='ISO-8859-1')\n",
    "df.head()"
   ]
  },
  {
   "cell_type": "markdown",
   "id": "d27c0f24",
   "metadata": {
    "papermill": {
     "duration": 0.006188,
     "end_time": "2023-12-01T00:58:22.885877",
     "exception": false,
     "start_time": "2023-12-01T00:58:22.879689",
     "status": "completed"
    },
    "tags": []
   },
   "source": [
    "There are three unnecesarry columns, we will only stay with v1 and v2"
   ]
  },
  {
   "cell_type": "code",
   "execution_count": 3,
   "id": "387a99a0",
   "metadata": {
    "execution": {
     "iopub.execute_input": "2023-12-01T00:58:22.901422Z",
     "iopub.status.busy": "2023-12-01T00:58:22.900613Z",
     "iopub.status.idle": "2023-12-01T00:58:22.927602Z",
     "shell.execute_reply": "2023-12-01T00:58:22.926370Z"
    },
    "papermill": {
     "duration": 0.037923,
     "end_time": "2023-12-01T00:58:22.930289",
     "exception": false,
     "start_time": "2023-12-01T00:58:22.892366",
     "status": "completed"
    },
    "tags": []
   },
   "outputs": [
    {
     "data": {
      "text/html": [
       "<div>\n",
       "<style scoped>\n",
       "    .dataframe tbody tr th:only-of-type {\n",
       "        vertical-align: middle;\n",
       "    }\n",
       "\n",
       "    .dataframe tbody tr th {\n",
       "        vertical-align: top;\n",
       "    }\n",
       "\n",
       "    .dataframe thead th {\n",
       "        text-align: right;\n",
       "    }\n",
       "</style>\n",
       "<table border=\"1\" class=\"dataframe\">\n",
       "  <thead>\n",
       "    <tr style=\"text-align: right;\">\n",
       "      <th></th>\n",
       "      <th>label</th>\n",
       "      <th>mail</th>\n",
       "    </tr>\n",
       "  </thead>\n",
       "  <tbody>\n",
       "    <tr>\n",
       "      <th>0</th>\n",
       "      <td>ham</td>\n",
       "      <td>Go until jurong point, crazy.. Available only ...</td>\n",
       "    </tr>\n",
       "    <tr>\n",
       "      <th>1</th>\n",
       "      <td>ham</td>\n",
       "      <td>Ok lar... Joking wif u oni...</td>\n",
       "    </tr>\n",
       "    <tr>\n",
       "      <th>2</th>\n",
       "      <td>spam</td>\n",
       "      <td>Free entry in 2 a wkly comp to win FA Cup fina...</td>\n",
       "    </tr>\n",
       "    <tr>\n",
       "      <th>3</th>\n",
       "      <td>ham</td>\n",
       "      <td>U dun say so early hor... U c already then say...</td>\n",
       "    </tr>\n",
       "    <tr>\n",
       "      <th>4</th>\n",
       "      <td>ham</td>\n",
       "      <td>Nah I don't think he goes to usf, he lives aro...</td>\n",
       "    </tr>\n",
       "  </tbody>\n",
       "</table>\n",
       "</div>"
      ],
      "text/plain": [
       "  label                                               mail\n",
       "0   ham  Go until jurong point, crazy.. Available only ...\n",
       "1   ham                      Ok lar... Joking wif u oni...\n",
       "2  spam  Free entry in 2 a wkly comp to win FA Cup fina...\n",
       "3   ham  U dun say so early hor... U c already then say...\n",
       "4   ham  Nah I don't think he goes to usf, he lives aro..."
      ]
     },
     "execution_count": 3,
     "metadata": {},
     "output_type": "execute_result"
    }
   ],
   "source": [
    "df = df[['v1','v2']].rename(columns = {'v1':'label', 'v2':'mail'})\n",
    "df.head()"
   ]
  },
  {
   "cell_type": "markdown",
   "id": "098f827a",
   "metadata": {
    "papermill": {
     "duration": 0.006426,
     "end_time": "2023-12-01T00:58:22.943602",
     "exception": false,
     "start_time": "2023-12-01T00:58:22.937176",
     "status": "completed"
    },
    "tags": []
   },
   "source": [
    "Ham means there's no spam and spam means there is, so we will map those values to 0 and 1 respectively."
   ]
  },
  {
   "cell_type": "code",
   "execution_count": 4,
   "id": "38106a99",
   "metadata": {
    "execution": {
     "iopub.execute_input": "2023-12-01T00:58:22.959466Z",
     "iopub.status.busy": "2023-12-01T00:58:22.959044Z",
     "iopub.status.idle": "2023-12-01T00:58:22.971693Z",
     "shell.execute_reply": "2023-12-01T00:58:22.970388Z"
    },
    "papermill": {
     "duration": 0.023868,
     "end_time": "2023-12-01T00:58:22.974515",
     "exception": false,
     "start_time": "2023-12-01T00:58:22.950647",
     "status": "completed"
    },
    "tags": []
   },
   "outputs": [
    {
     "data": {
      "text/html": [
       "<div>\n",
       "<style scoped>\n",
       "    .dataframe tbody tr th:only-of-type {\n",
       "        vertical-align: middle;\n",
       "    }\n",
       "\n",
       "    .dataframe tbody tr th {\n",
       "        vertical-align: top;\n",
       "    }\n",
       "\n",
       "    .dataframe thead th {\n",
       "        text-align: right;\n",
       "    }\n",
       "</style>\n",
       "<table border=\"1\" class=\"dataframe\">\n",
       "  <thead>\n",
       "    <tr style=\"text-align: right;\">\n",
       "      <th></th>\n",
       "      <th>label</th>\n",
       "      <th>mail</th>\n",
       "    </tr>\n",
       "  </thead>\n",
       "  <tbody>\n",
       "    <tr>\n",
       "      <th>0</th>\n",
       "      <td>0</td>\n",
       "      <td>Go until jurong point, crazy.. Available only ...</td>\n",
       "    </tr>\n",
       "    <tr>\n",
       "      <th>1</th>\n",
       "      <td>0</td>\n",
       "      <td>Ok lar... Joking wif u oni...</td>\n",
       "    </tr>\n",
       "    <tr>\n",
       "      <th>2</th>\n",
       "      <td>1</td>\n",
       "      <td>Free entry in 2 a wkly comp to win FA Cup fina...</td>\n",
       "    </tr>\n",
       "    <tr>\n",
       "      <th>3</th>\n",
       "      <td>0</td>\n",
       "      <td>U dun say so early hor... U c already then say...</td>\n",
       "    </tr>\n",
       "    <tr>\n",
       "      <th>4</th>\n",
       "      <td>0</td>\n",
       "      <td>Nah I don't think he goes to usf, he lives aro...</td>\n",
       "    </tr>\n",
       "  </tbody>\n",
       "</table>\n",
       "</div>"
      ],
      "text/plain": [
       "   label                                               mail\n",
       "0      0  Go until jurong point, crazy.. Available only ...\n",
       "1      0                      Ok lar... Joking wif u oni...\n",
       "2      1  Free entry in 2 a wkly comp to win FA Cup fina...\n",
       "3      0  U dun say so early hor... U c already then say...\n",
       "4      0  Nah I don't think he goes to usf, he lives aro..."
      ]
     },
     "execution_count": 4,
     "metadata": {},
     "output_type": "execute_result"
    }
   ],
   "source": [
    "df['label'] = df['label'].map({'ham':0, 'spam':1})\n",
    "df.head()"
   ]
  },
  {
   "cell_type": "code",
   "execution_count": 5,
   "id": "530b76ec",
   "metadata": {
    "execution": {
     "iopub.execute_input": "2023-12-01T00:58:22.993837Z",
     "iopub.status.busy": "2023-12-01T00:58:22.991110Z",
     "iopub.status.idle": "2023-12-01T00:58:23.009174Z",
     "shell.execute_reply": "2023-12-01T00:58:23.007824Z"
    },
    "papermill": {
     "duration": 0.03082,
     "end_time": "2023-12-01T00:58:23.012417",
     "exception": false,
     "start_time": "2023-12-01T00:58:22.981597",
     "status": "completed"
    },
    "tags": []
   },
   "outputs": [
    {
     "data": {
      "text/plain": [
       "label\n",
       "0    4825\n",
       "1     747\n",
       "Name: count, dtype: int64"
      ]
     },
     "execution_count": 5,
     "metadata": {},
     "output_type": "execute_result"
    }
   ],
   "source": [
    "# Amount of each label\n",
    "df['label'].value_counts()"
   ]
  },
  {
   "cell_type": "code",
   "execution_count": 6,
   "id": "2b39e21b",
   "metadata": {
    "execution": {
     "iopub.execute_input": "2023-12-01T00:58:23.038654Z",
     "iopub.status.busy": "2023-12-01T00:58:23.035617Z",
     "iopub.status.idle": "2023-12-01T00:58:23.390814Z",
     "shell.execute_reply": "2023-12-01T00:58:23.389451Z"
    },
    "papermill": {
     "duration": 0.370139,
     "end_time": "2023-12-01T00:58:23.393846",
     "exception": false,
     "start_time": "2023-12-01T00:58:23.023707",
     "status": "completed"
    },
    "tags": []
   },
   "outputs": [
    {
     "data": {
      "image/png": "[encoded data removed]",
      "text/plain": [
       "<Figure size 640x480 with 1 Axes>"
      ]
     },
     "metadata": {},
     "output_type": "display_data"
    }
   ],
   "source": [
    "# Graph of labels\n",
    "import matplotlib.pyplot as plt\n",
    "ax = df['label'].value_counts().sort_index().plot(kind = 'bar', color = ['blue', 'red'])\n",
    "ax.set_title('Bar plot of labels')\n",
    "ax.set_xlabel('Not spam or spam');"
   ]
  },
  {
   "cell_type": "code",
   "execution_count": 7,
   "id": "9e3d474b",
   "metadata": {
    "execution": {
     "iopub.execute_input": "2023-12-01T00:58:23.412351Z",
     "iopub.status.busy": "2023-12-01T00:58:23.411648Z",
     "iopub.status.idle": "2023-12-01T00:58:24.697122Z",
     "shell.execute_reply": "2023-12-01T00:58:24.696077Z"
    },
    "papermill": {
     "duration": 1.298255,
     "end_time": "2023-12-01T00:58:24.699709",
     "exception": false,
     "start_time": "2023-12-01T00:58:23.401454",
     "status": "completed"
    },
    "tags": []
   },
   "outputs": [],
   "source": [
    "# We will now divide between training and testing sets\n",
    "from sklearn.model_selection import train_test_split\n",
    "\n",
    "training_mails, testing_mails, training_labels, testing_labels = train_test_split(df['mail'], df['label'], test_size = 0.2, random_state = 42, stratify = df['label'])"
   ]
  },
  {
   "cell_type": "code",
   "execution_count": 8,
   "id": "7a827f92",
   "metadata": {
    "execution": {
     "iopub.execute_input": "2023-12-01T00:58:24.717121Z",
     "iopub.status.busy": "2023-12-01T00:58:24.716445Z",
     "iopub.status.idle": "2023-12-01T00:58:24.720997Z",
     "shell.execute_reply": "2023-12-01T00:58:24.720188Z"
    },
    "papermill": {
     "duration": 0.016091,
     "end_time": "2023-12-01T00:58:24.723304",
     "exception": false,
     "start_time": "2023-12-01T00:58:24.707213",
     "status": "completed"
    },
    "tags": []
   },
   "outputs": [],
   "source": [
    "# Define variables\n",
    "vocab_size = 100000\n",
    "max_length = 32\n",
    "trunc_type = 'post'\n",
    "embedding_dim = 16\n",
    "pad_type = 'post'\n",
    "oov_tok = \"<OOV>\""
   ]
  },
  {
   "cell_type": "code",
   "execution_count": 9,
   "id": "e43e3b4a",
   "metadata": {
    "execution": {
     "iopub.execute_input": "2023-12-01T00:58:24.740807Z",
     "iopub.status.busy": "2023-12-01T00:58:24.740153Z",
     "iopub.status.idle": "2023-12-01T00:58:24.744666Z",
     "shell.execute_reply": "2023-12-01T00:58:24.743794Z"
    },
    "papermill": {
     "duration": 0.015867,
     "end_time": "2023-12-01T00:58:24.746931",
     "exception": false,
     "start_time": "2023-12-01T00:58:24.731064",
     "status": "completed"
    },
    "tags": []
   },
   "outputs": [],
   "source": [
    "training_mails = training_mails.values\n",
    "testing_mails = testing_mails.values\n",
    "training_labels = training_labels.values\n",
    "testing_labels = testing_labels.values"
   ]
  },
  {
   "cell_type": "code",
   "execution_count": 10,
   "id": "54115610",
   "metadata": {
    "execution": {
     "iopub.execute_input": "2023-12-01T00:58:24.764481Z",
     "iopub.status.busy": "2023-12-01T00:58:24.763865Z",
     "iopub.status.idle": "2023-12-01T00:58:25.062115Z",
     "shell.execute_reply": "2023-12-01T00:58:25.061106Z"
    },
    "papermill": {
     "duration": 0.310163,
     "end_time": "2023-12-01T00:58:25.064764",
     "exception": false,
     "start_time": "2023-12-01T00:58:24.754601",
     "status": "completed"
    },
    "tags": []
   },
   "outputs": [],
   "source": [
    "# Divide also padded sets\n",
    "tokenizer = Tokenizer(num_words = vocab_size, oov_token = oov_tok)\n",
    "tokenizer.fit_on_texts(training_mails)\n",
    "\n",
    "word_index = tokenizer.word_index\n",
    "\n",
    "training_sequences = tokenizer.texts_to_sequences(training_mails)\n",
    "training_padding = pad_sequences(training_sequences, maxlen = max_length,\n",
    "                                truncating = trunc_type, padding = pad_type)\n",
    "\n",
    "testing_sequences = tokenizer.texts_to_sequences(testing_mails)\n",
    "testing_padding = pad_sequences(testing_sequences, maxlen = max_length, \n",
    "                               truncating = trunc_type, padding = pad_type)"
   ]
  },
  {
   "cell_type": "code",
   "execution_count": 11,
   "id": "920c96ef",
   "metadata": {
    "execution": {
     "iopub.execute_input": "2023-12-01T00:58:25.082828Z",
     "iopub.status.busy": "2023-12-01T00:58:25.082109Z",
     "iopub.status.idle": "2023-12-01T00:58:25.088388Z",
     "shell.execute_reply": "2023-12-01T00:58:25.087538Z"
    },
    "papermill": {
     "duration": 0.018242,
     "end_time": "2023-12-01T00:58:25.091111",
     "exception": false,
     "start_time": "2023-12-01T00:58:25.072869",
     "status": "completed"
    },
    "tags": []
   },
   "outputs": [],
   "source": [
    "# Necessary for tf\n",
    "import numpy as np\n",
    "training_padding = np.array(training_padding)\n",
    "training_labels = np.array(training_labels)\n",
    "testing_padding = np.array(testing_padding)\n",
    "testing_labels = np.array(testing_labels)"
   ]
  },
  {
   "cell_type": "code",
   "execution_count": 12,
   "id": "7e45dc5d",
   "metadata": {
    "execution": {
     "iopub.execute_input": "2023-12-01T00:58:25.108311Z",
     "iopub.status.busy": "2023-12-01T00:58:25.107641Z",
     "iopub.status.idle": "2023-12-01T00:58:25.338116Z",
     "shell.execute_reply": "2023-12-01T00:58:25.336800Z"
    },
    "papermill": {
     "duration": 0.242324,
     "end_time": "2023-12-01T00:58:25.340994",
     "exception": false,
     "start_time": "2023-12-01T00:58:25.098670",
     "status": "completed"
    },
    "tags": []
   },
   "outputs": [],
   "source": [
    "model = tf.keras.Sequential([\n",
    "    tf.keras.layers.Embedding(vocab_size, embedding_dim, input_length = max_length),\n",
    "    tf.keras.layers.GlobalAveragePooling1D(),\n",
    "    tf.keras.layers.Dense(24, activation = 'relu'),\n",
    "    tf.keras.layers.Dense(1, activation = 'sigmoid')\n",
    "])\n",
    "\n",
    "model.compile(loss='binary_crossentropy', optimizer='adam', metrics = ['accuracy'])"
   ]
  },
  {
   "cell_type": "code",
   "execution_count": 13,
   "id": "31e83f20",
   "metadata": {
    "execution": {
     "iopub.execute_input": "2023-12-01T00:58:25.358600Z",
     "iopub.status.busy": "2023-12-01T00:58:25.358143Z",
     "iopub.status.idle": "2023-12-01T00:59:35.288076Z",
     "shell.execute_reply": "2023-12-01T00:59:35.286858Z"
    },
    "papermill": {
     "duration": 69.941831,
     "end_time": "2023-12-01T00:59:35.290887",
     "exception": false,
     "start_time": "2023-12-01T00:58:25.349056",
     "status": "completed"
    },
    "tags": []
   },
   "outputs": [
    {
     "name": "stdout",
     "output_type": "stream",
     "text": [
      "Epoch 1/30\n",
      "140/140 - 4s - loss: 0.4825 - accuracy: 0.8454 - val_loss: 0.2639 - val_accuracy: 0.8673 - 4s/epoch - 27ms/step\n",
      "Epoch 2/30\n",
      "140/140 - 2s - loss: 0.1854 - accuracy: 0.9201 - val_loss: 0.1418 - val_accuracy: 0.9578 - 2s/epoch - 16ms/step\n",
      "Epoch 3/30\n",
      "140/140 - 2s - loss: 0.0966 - accuracy: 0.9751 - val_loss: 0.0852 - val_accuracy: 0.9776 - 2s/epoch - 17ms/step\n",
      "Epoch 4/30\n",
      "140/140 - 2s - loss: 0.0545 - accuracy: 0.9854 - val_loss: 0.0609 - val_accuracy: 0.9839 - 2s/epoch - 16ms/step\n",
      "Epoch 5/30\n",
      "140/140 - 2s - loss: 0.0357 - accuracy: 0.9892 - val_loss: 0.0517 - val_accuracy: 0.9839 - 2s/epoch - 16ms/step\n",
      "Epoch 6/30\n",
      "140/140 - 2s - loss: 0.0256 - accuracy: 0.9919 - val_loss: 0.0453 - val_accuracy: 0.9865 - 2s/epoch - 16ms/step\n",
      "Epoch 7/30\n",
      "140/140 - 2s - loss: 0.0190 - accuracy: 0.9946 - val_loss: 0.0437 - val_accuracy: 0.9874 - 2s/epoch - 16ms/step\n",
      "Epoch 8/30\n",
      "140/140 - 2s - loss: 0.0145 - accuracy: 0.9960 - val_loss: 0.0415 - val_accuracy: 0.9874 - 2s/epoch - 16ms/step\n",
      "Epoch 9/30\n",
      "140/140 - 2s - loss: 0.0110 - accuracy: 0.9973 - val_loss: 0.0409 - val_accuracy: 0.9874 - 2s/epoch - 16ms/step\n",
      "Epoch 10/30\n",
      "140/140 - 2s - loss: 0.0085 - accuracy: 0.9980 - val_loss: 0.0397 - val_accuracy: 0.9874 - 2s/epoch - 16ms/step\n",
      "Epoch 11/30\n",
      "140/140 - 2s - loss: 0.0067 - accuracy: 0.9989 - val_loss: 0.0427 - val_accuracy: 0.9874 - 2s/epoch - 17ms/step\n",
      "Epoch 12/30\n",
      "140/140 - 2s - loss: 0.0054 - accuracy: 0.9991 - val_loss: 0.0424 - val_accuracy: 0.9874 - 2s/epoch - 17ms/step\n",
      "Epoch 13/30\n",
      "140/140 - 2s - loss: 0.0046 - accuracy: 0.9993 - val_loss: 0.0421 - val_accuracy: 0.9874 - 2s/epoch - 16ms/step\n",
      "Epoch 14/30\n",
      "140/140 - 2s - loss: 0.0036 - accuracy: 0.9996 - val_loss: 0.0410 - val_accuracy: 0.9874 - 2s/epoch - 17ms/step\n",
      "Epoch 15/30\n",
      "140/140 - 2s - loss: 0.0029 - accuracy: 0.9998 - val_loss: 0.0422 - val_accuracy: 0.9883 - 2s/epoch - 16ms/step\n",
      "Epoch 16/30\n",
      "140/140 - 2s - loss: 0.0025 - accuracy: 0.9996 - val_loss: 0.0444 - val_accuracy: 0.9874 - 2s/epoch - 16ms/step\n",
      "Epoch 17/30\n",
      "140/140 - 2s - loss: 0.0020 - accuracy: 0.9998 - val_loss: 0.0496 - val_accuracy: 0.9874 - 2s/epoch - 16ms/step\n",
      "Epoch 18/30\n",
      "140/140 - 2s - loss: 0.0018 - accuracy: 0.9998 - val_loss: 0.0496 - val_accuracy: 0.9874 - 2s/epoch - 15ms/step\n",
      "Epoch 19/30\n",
      "140/140 - 2s - loss: 0.0015 - accuracy: 0.9998 - val_loss: 0.0452 - val_accuracy: 0.9883 - 2s/epoch - 16ms/step\n",
      "Epoch 20/30\n",
      "140/140 - 2s - loss: 0.0013 - accuracy: 0.9998 - val_loss: 0.0515 - val_accuracy: 0.9874 - 2s/epoch - 16ms/step\n",
      "Epoch 21/30\n",
      "140/140 - 2s - loss: 0.0012 - accuracy: 0.9998 - val_loss: 0.0520 - val_accuracy: 0.9874 - 2s/epoch - 16ms/step\n",
      "Epoch 22/30\n",
      "140/140 - 2s - loss: 9.7983e-04 - accuracy: 0.9998 - val_loss: 0.0476 - val_accuracy: 0.9883 - 2s/epoch - 16ms/step\n",
      "Epoch 23/30\n",
      "140/140 - 2s - loss: 9.3573e-04 - accuracy: 0.9998 - val_loss: 0.0480 - val_accuracy: 0.9883 - 2s/epoch - 16ms/step\n",
      "Epoch 24/30\n",
      "140/140 - 2s - loss: 7.4573e-04 - accuracy: 1.0000 - val_loss: 0.0546 - val_accuracy: 0.9874 - 2s/epoch - 16ms/step\n",
      "Epoch 25/30\n",
      "140/140 - 2s - loss: 7.0820e-04 - accuracy: 0.9998 - val_loss: 0.0551 - val_accuracy: 0.9874 - 2s/epoch - 16ms/step\n",
      "Epoch 26/30\n",
      "140/140 - 2s - loss: 6.6166e-04 - accuracy: 0.9998 - val_loss: 0.0534 - val_accuracy: 0.9883 - 2s/epoch - 15ms/step\n",
      "Epoch 27/30\n",
      "140/140 - 2s - loss: 5.4608e-04 - accuracy: 0.9998 - val_loss: 0.0547 - val_accuracy: 0.9874 - 2s/epoch - 16ms/step\n",
      "Epoch 28/30\n",
      "140/140 - 2s - loss: 4.7096e-04 - accuracy: 1.0000 - val_loss: 0.0583 - val_accuracy: 0.9865 - 2s/epoch - 17ms/step\n",
      "Epoch 29/30\n",
      "140/140 - 2s - loss: 3.9194e-04 - accuracy: 1.0000 - val_loss: 0.0545 - val_accuracy: 0.9865 - 2s/epoch - 16ms/step\n",
      "Epoch 30/30\n",
      "140/140 - 2s - loss: 3.6363e-04 - accuracy: 1.0000 - val_loss: 0.0599 - val_accuracy: 0.9865 - 2s/epoch - 17ms/step\n"
     ]
    },
    {
     "data": {
      "text/plain": [
       "<keras.src.callbacks.History at 0x7e9bf88755a0>"
      ]
     },
     "execution_count": 13,
     "metadata": {},
     "output_type": "execute_result"
    }
   ],
   "source": [
    "# Fit the data\n",
    "num_epochs = 30\n",
    "model.fit(training_padding, training_labels, validation_data = (testing_padding, testing_labels), epochs = num_epochs,\n",
    "         verbose = 2)"
   ]
  },
  {
   "cell_type": "code",
   "execution_count": 14,
   "id": "b0032a45",
   "metadata": {
    "execution": {
     "iopub.execute_input": "2023-12-01T00:59:35.319685Z",
     "iopub.status.busy": "2023-12-01T00:59:35.318604Z",
     "iopub.status.idle": "2023-12-01T00:59:35.498499Z",
     "shell.execute_reply": "2023-12-01T00:59:35.497451Z"
    },
    "papermill": {
     "duration": 0.196961,
     "end_time": "2023-12-01T00:59:35.501005",
     "exception": false,
     "start_time": "2023-12-01T00:59:35.304044",
     "status": "completed"
    },
    "tags": []
   },
   "outputs": [
    {
     "name": "stdout",
     "output_type": "stream",
     "text": [
      "1/1 [==============================] - 0s 110ms/step\n",
      "[[0.58455354]\n",
      " [0.99500173]\n",
      " [0.04853683]]\n"
     ]
    }
   ],
   "source": [
    "# Examples\n",
    "sentence = [\"A vulnerability has been identified in the Apple Mobile Facetime Applications, click here to do a facetime verification\",\n",
    "            \"You have won a free trip, just click here to claim your price\",\n",
    "           \"Check our new Nike offers for this black friday\"]\n",
    "sequences = tokenizer.texts_to_sequences(sentence)\n",
    "padding = pad_sequences(sequences, maxlen = max_length, truncating = trunc_type, padding = pad_type)\n",
    "predictions = model.predict(padding)\n",
    "print(predictions)"
   ]
  }
 ],
 "metadata": {
  "kaggle": {
   "accelerator": "none",
   "dataSources": [
    {
     "datasetId": 483,
     "sourceId": 982,
     "sourceType": "datasetVersion"
    }
   ],
   "dockerImageVersionId": 30587,
   "isGpuEnabled": false,
   "isInternetEnabled": true,
   "language": "python",
   "sourceType": "notebook"
  },
  "kernelspec": {
   "display_name": "Python 3",
   "language": "python",
   "name": "python3"
  },
  "language_info": {
   "codemirror_mode": {
    "name": "ipython",
    "version": 3
   },
   "file_extension": ".py",
   "mimetype": "text/x-python",
   "name": "python",
   "nbconvert_exporter": "python",
   "pygments_lexer": "ipython3",
   "version": "3.10.12"
  },
  "papermill": {
   "default_parameters": {},
   "duration": 93.638732,
   "end_time": "2023-12-01T00:59:37.243392",
   "environment_variables": {},
   "exception": null,
   "input_path": "__notebook__.ipynb",
   "output_path": "__notebook__.ipynb",
   "parameters": {},
   "start_time": "2023-12-01T00:58:03.604660",
   "version": "2.4.0"
  }
 },
 "nbformat": 4,
 "nbformat_minor": 5
}
